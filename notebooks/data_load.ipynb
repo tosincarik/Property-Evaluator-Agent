{
 "cells": [
  {
   "cell_type": "code",
   "execution_count": 2,
   "id": "a9639893",
   "metadata": {},
   "outputs": [],
   "source": [
    "import pandas as pd\n",
    "\n"
   ]
  },
  {
   "cell_type": "code",
   "execution_count": 3,
   "id": "d30f9638",
   "metadata": {},
   "outputs": [],
   "source": [
    "csv_path = \"../data/raw/NigeriaHousingDataset.csv\"\n"
   ]
  },
  {
   "cell_type": "code",
   "execution_count": null,
   "id": "e2713242",
   "metadata": {},
   "outputs": [],
   "source": [
    "# Load CSV\n",
    "df = pd.read_csv(csv_path)\n",
    "\n",
    "\n",
    "# Show first 5 rows\n",
    "print(df.head())"
   ]
  },
  {
   "cell_type": "code",
   "execution_count": 7,
   "id": "6de286c3",
   "metadata": {},
   "outputs": [
    {
     "name": "stdout",
     "output_type": "stream",
     "text": [
      "<class 'pandas.core.frame.DataFrame'>\n",
      "RangeIndex: 50247 entries, 0 to 50246\n",
      "Data columns (total 11 columns):\n",
      " #   Column          Non-Null Count  Dtype  \n",
      "---  ------          --------------  -----  \n",
      " 0   Location        50247 non-null  object \n",
      " 1   Currency        50247 non-null  object \n",
      " 2   Price           50247 non-null  object \n",
      " 3   Contact         50247 non-null  object \n",
      " 4   Bedrooms        49325 non-null  float64\n",
      " 5   Realtor         50246 non-null  object \n",
      " 6   Bathrooms       42697 non-null  float64\n",
      " 7   Title           50247 non-null  object \n",
      " 8   Description     50247 non-null  object \n",
      " 9   Parking Spaces  25198 non-null  float64\n",
      " 10  Toilets         44069 non-null  float64\n",
      "dtypes: float64(4), object(7)\n",
      "memory usage: 4.2+ MB\n"
     ]
    }
   ],
   "source": [
    "df.info()"
   ]
  },
  {
   "cell_type": "code",
   "execution_count": 6,
   "id": "1e1ac2e3",
   "metadata": {},
   "outputs": [
    {
     "data": {
      "text/html": [
       "<div>\n",
       "<style scoped>\n",
       "    .dataframe tbody tr th:only-of-type {\n",
       "        vertical-align: middle;\n",
       "    }\n",
       "\n",
       "    .dataframe tbody tr th {\n",
       "        vertical-align: top;\n",
       "    }\n",
       "\n",
       "    .dataframe thead th {\n",
       "        text-align: right;\n",
       "    }\n",
       "</style>\n",
       "<table border=\"1\" class=\"dataframe\">\n",
       "  <thead>\n",
       "    <tr style=\"text-align: right;\">\n",
       "      <th></th>\n",
       "      <th>Location</th>\n",
       "      <th>Currency</th>\n",
       "      <th>Price</th>\n",
       "      <th>Contact</th>\n",
       "      <th>Bedrooms</th>\n",
       "      <th>Realtor</th>\n",
       "      <th>Bathrooms</th>\n",
       "      <th>Title</th>\n",
       "      <th>Description</th>\n",
       "      <th>Parking Spaces</th>\n",
       "      <th>Toilets</th>\n",
       "    </tr>\n",
       "  </thead>\n",
       "  <tbody>\n",
       "    <tr>\n",
       "      <th>0</th>\n",
       "      <td>Urban Prime Three Phase 2 Estate, Ogombo, Ajah...</td>\n",
       "      <td>₦</td>\n",
       "      <td>150,000,000</td>\n",
       "      <td>8067495852</td>\n",
       "      <td>5.0</td>\n",
       "      <td>Lake Pad Ventures</td>\n",
       "      <td>6.0</td>\n",
       "      <td>Luxury 5 Bedrooms Semi-detached Duplex</td>\n",
       "      <td>Hurry now!\\nfor sale\\nluxury 5 bedroom on two ...</td>\n",
       "      <td>5.0</td>\n",
       "      <td>7.0</td>\n",
       "    </tr>\n",
       "    <tr>\n",
       "      <th>1</th>\n",
       "      <td>Ikoyi, Lagos</td>\n",
       "      <td>$</td>\n",
       "      <td>2,800,000</td>\n",
       "      <td>7065266133</td>\n",
       "      <td>6.0</td>\n",
       "      <td>Bera Deals</td>\n",
       "      <td>6.0</td>\n",
       "      <td>Luxury 6 Bedrooms Penthouse Condo</td>\n",
       "      <td>Direct brief from the owner\\n- the detailed vi...</td>\n",
       "      <td>NaN</td>\n",
       "      <td>7.0</td>\n",
       "    </tr>\n",
       "    <tr>\n",
       "      <th>2</th>\n",
       "      <td>Pinnock Beach Estate, Osapa, Lekki, Lagos</td>\n",
       "      <td>₦</td>\n",
       "      <td>1,400,000,000</td>\n",
       "      <td>7065266133</td>\n",
       "      <td>6.0</td>\n",
       "      <td>Bera Deals</td>\n",
       "      <td>NaN</td>\n",
       "      <td>Newly Built Massive House / Mansion</td>\n",
       "      <td>Direct brief / direct instruction from the own...</td>\n",
       "      <td>NaN</td>\n",
       "      <td>7.0</td>\n",
       "    </tr>\n",
       "    <tr>\n",
       "      <th>3</th>\n",
       "      <td>Oseni Mayegun Street, Ologolo, Lekki, Lagos</td>\n",
       "      <td>₦</td>\n",
       "      <td>200,000,000</td>\n",
       "      <td>8079792003</td>\n",
       "      <td>4.0</td>\n",
       "      <td>Paul Osaji And Co</td>\n",
       "      <td>4.0</td>\n",
       "      <td>4 Bedroom Detached House With 2 Mini Flats Bq</td>\n",
       "      <td>For sale in ologolo\\n4 bedroom fully detached ...</td>\n",
       "      <td>NaN</td>\n",
       "      <td>4.0</td>\n",
       "    </tr>\n",
       "    <tr>\n",
       "      <th>4</th>\n",
       "      <td>Ikate Lekki, Ikate, Lekki, Lagos</td>\n",
       "      <td>₦</td>\n",
       "      <td>210,000,000</td>\n",
       "      <td>8084677480</td>\n",
       "      <td>5.0</td>\n",
       "      <td>Jasmine Real Properties And Estate Services</td>\n",
       "      <td>5.0</td>\n",
       "      <td>Super Luxury 5bed Semi Detach Duplex With A Bq</td>\n",
       "      <td>5 bed ikate n215m\\nluxury 5 bedroom semidetach...</td>\n",
       "      <td>NaN</td>\n",
       "      <td>6.0</td>\n",
       "    </tr>\n",
       "    <tr>\n",
       "      <th>...</th>\n",
       "      <td>...</td>\n",
       "      <td>...</td>\n",
       "      <td>...</td>\n",
       "      <td>...</td>\n",
       "      <td>...</td>\n",
       "      <td>...</td>\n",
       "      <td>...</td>\n",
       "      <td>...</td>\n",
       "      <td>...</td>\n",
       "      <td>...</td>\n",
       "      <td>...</td>\n",
       "    </tr>\n",
       "    <tr>\n",
       "      <th>50242</th>\n",
       "      <td>Tulip Heaven, Chevron, Lekki Phase 1, Lekki, L...</td>\n",
       "      <td>₦</td>\n",
       "      <td>260,000,000</td>\n",
       "      <td>8033012341</td>\n",
       "      <td>5.0</td>\n",
       "      <td>First Close</td>\n",
       "      <td>6.0</td>\n",
       "      <td>Newly Built 5 Bedrooms Fully Detached House</td>\n",
       "      <td>Holiday price now n260,000,000.00 from initial...</td>\n",
       "      <td>NaN</td>\n",
       "      <td>7.0</td>\n",
       "    </tr>\n",
       "    <tr>\n",
       "      <th>50243</th>\n",
       "      <td>Aguda, Surulere, Lagos</td>\n",
       "      <td>₦</td>\n",
       "      <td>150,000,000</td>\n",
       "      <td>8054563213</td>\n",
       "      <td>NaN</td>\n",
       "      <td>Harris Consult Realty</td>\n",
       "      <td>NaN</td>\n",
       "      <td>Renovated Block Of 16 Flats</td>\n",
       "      <td>Direct brief\\nfor sale\\n16 flat comprised of 9...</td>\n",
       "      <td>NaN</td>\n",
       "      <td>NaN</td>\n",
       "    </tr>\n",
       "    <tr>\n",
       "      <th>50244</th>\n",
       "      <td>Katampe Extension, Katampe, Abuja</td>\n",
       "      <td>₦</td>\n",
       "      <td>2,500,000,000</td>\n",
       "      <td>8155321626</td>\n",
       "      <td>9.0</td>\n",
       "      <td>Akerejolabisoye Global Ltd</td>\n",
       "      <td>10.0</td>\n",
       "      <td>Newly Built Luxury 9 Bedroom Mansion With 2 Be...</td>\n",
       "      <td>Newly built luxury 9 bedroom mansion with 2 be...</td>\n",
       "      <td>10.0</td>\n",
       "      <td>10.0</td>\n",
       "    </tr>\n",
       "    <tr>\n",
       "      <th>50245</th>\n",
       "      <td>Banana Island, Ikoyi, Lagos</td>\n",
       "      <td>$</td>\n",
       "      <td>4,000,000</td>\n",
       "      <td>9016641836</td>\n",
       "      <td>5.0</td>\n",
       "      <td>Godmaan Global Realestate</td>\n",
       "      <td>8.0</td>\n",
       "      <td>Convenient, Contemporary Living With Treetop V...</td>\n",
       "      <td>Located in a sought-after neighborhood, this p...</td>\n",
       "      <td>8.0</td>\n",
       "      <td>8.0</td>\n",
       "    </tr>\n",
       "    <tr>\n",
       "      <th>50246</th>\n",
       "      <td>Orchid Hotel Road Off Chevron Toll Gate, Lekki...</td>\n",
       "      <td>₦</td>\n",
       "      <td>70,000,000</td>\n",
       "      <td>9016641836</td>\n",
       "      <td>2.0</td>\n",
       "      <td>Godmaan Global Realestate</td>\n",
       "      <td>3.0</td>\n",
       "      <td>Invest In This Highly Sought After Location</td>\n",
       "      <td>Located in a sought-after neighborhood, this p...</td>\n",
       "      <td>2.0</td>\n",
       "      <td>3.0</td>\n",
       "    </tr>\n",
       "  </tbody>\n",
       "</table>\n",
       "<p>50247 rows × 11 columns</p>\n",
       "</div>"
      ],
      "text/plain": [
       "                                                Location Currency  \\\n",
       "0      Urban Prime Three Phase 2 Estate, Ogombo, Ajah...        ₦   \n",
       "1                                           Ikoyi, Lagos        $   \n",
       "2              Pinnock Beach Estate, Osapa, Lekki, Lagos        ₦   \n",
       "3            Oseni Mayegun Street, Ologolo, Lekki, Lagos        ₦   \n",
       "4                       Ikate Lekki, Ikate, Lekki, Lagos        ₦   \n",
       "...                                                  ...      ...   \n",
       "50242  Tulip Heaven, Chevron, Lekki Phase 1, Lekki, L...        ₦   \n",
       "50243                             Aguda, Surulere, Lagos        ₦   \n",
       "50244                  Katampe Extension, Katampe, Abuja        ₦   \n",
       "50245                        Banana Island, Ikoyi, Lagos        $   \n",
       "50246  Orchid Hotel Road Off Chevron Toll Gate, Lekki...        ₦   \n",
       "\n",
       "               Price     Contact  Bedrooms  \\\n",
       "0        150,000,000  8067495852       5.0   \n",
       "1          2,800,000  7065266133       6.0   \n",
       "2      1,400,000,000  7065266133       6.0   \n",
       "3        200,000,000  8079792003       4.0   \n",
       "4        210,000,000  8084677480       5.0   \n",
       "...              ...         ...       ...   \n",
       "50242    260,000,000  8033012341       5.0   \n",
       "50243    150,000,000  8054563213       NaN   \n",
       "50244  2,500,000,000  8155321626       9.0   \n",
       "50245      4,000,000  9016641836       5.0   \n",
       "50246     70,000,000  9016641836       2.0   \n",
       "\n",
       "                                           Realtor  Bathrooms  \\\n",
       "0                                Lake Pad Ventures        6.0   \n",
       "1                                       Bera Deals        6.0   \n",
       "2                                       Bera Deals        NaN   \n",
       "3                                Paul Osaji And Co        4.0   \n",
       "4      Jasmine Real Properties And Estate Services        5.0   \n",
       "...                                            ...        ...   \n",
       "50242                                  First Close        6.0   \n",
       "50243                        Harris Consult Realty        NaN   \n",
       "50244                   Akerejolabisoye Global Ltd       10.0   \n",
       "50245                    Godmaan Global Realestate        8.0   \n",
       "50246                    Godmaan Global Realestate        3.0   \n",
       "\n",
       "                                                   Title  \\\n",
       "0                 Luxury 5 Bedrooms Semi-detached Duplex   \n",
       "1                      Luxury 6 Bedrooms Penthouse Condo   \n",
       "2                    Newly Built Massive House / Mansion   \n",
       "3          4 Bedroom Detached House With 2 Mini Flats Bq   \n",
       "4         Super Luxury 5bed Semi Detach Duplex With A Bq   \n",
       "...                                                  ...   \n",
       "50242        Newly Built 5 Bedrooms Fully Detached House   \n",
       "50243                        Renovated Block Of 16 Flats   \n",
       "50244  Newly Built Luxury 9 Bedroom Mansion With 2 Be...   \n",
       "50245  Convenient, Contemporary Living With Treetop V...   \n",
       "50246        Invest In This Highly Sought After Location   \n",
       "\n",
       "                                             Description  Parking Spaces  \\\n",
       "0      Hurry now!\\nfor sale\\nluxury 5 bedroom on two ...             5.0   \n",
       "1      Direct brief from the owner\\n- the detailed vi...             NaN   \n",
       "2      Direct brief / direct instruction from the own...             NaN   \n",
       "3      For sale in ologolo\\n4 bedroom fully detached ...             NaN   \n",
       "4      5 bed ikate n215m\\nluxury 5 bedroom semidetach...             NaN   \n",
       "...                                                  ...             ...   \n",
       "50242  Holiday price now n260,000,000.00 from initial...             NaN   \n",
       "50243  Direct brief\\nfor sale\\n16 flat comprised of 9...             NaN   \n",
       "50244  Newly built luxury 9 bedroom mansion with 2 be...            10.0   \n",
       "50245  Located in a sought-after neighborhood, this p...             8.0   \n",
       "50246  Located in a sought-after neighborhood, this p...             2.0   \n",
       "\n",
       "       Toilets  \n",
       "0          7.0  \n",
       "1          7.0  \n",
       "2          7.0  \n",
       "3          4.0  \n",
       "4          6.0  \n",
       "...        ...  \n",
       "50242      7.0  \n",
       "50243      NaN  \n",
       "50244     10.0  \n",
       "50245      8.0  \n",
       "50246      3.0  \n",
       "\n",
       "[50247 rows x 11 columns]"
      ]
     },
     "metadata": {},
     "output_type": "display_data"
    }
   ],
   "source": [
    "display(df)"
   ]
  },
  {
   "cell_type": "code",
   "execution_count": 8,
   "id": "ac085746",
   "metadata": {},
   "outputs": [
    {
     "data": {
      "text/plain": [
       "Location              0\n",
       "Currency              0\n",
       "Price                 0\n",
       "Contact               0\n",
       "Bedrooms            922\n",
       "Realtor               1\n",
       "Bathrooms          7550\n",
       "Title                 0\n",
       "Description           0\n",
       "Parking Spaces    25049\n",
       "Toilets            6178\n",
       "dtype: int64"
      ]
     },
     "execution_count": 8,
     "metadata": {},
     "output_type": "execute_result"
    }
   ],
   "source": [
    "df.isnull().sum()"
   ]
  },
  {
   "cell_type": "code",
   "execution_count": 11,
   "id": "99573f46",
   "metadata": {},
   "outputs": [
    {
     "data": {
      "text/plain": [
       "0         7.0\n",
       "1         7.0\n",
       "2         7.0\n",
       "3         4.0\n",
       "4         6.0\n",
       "         ... \n",
       "50242     7.0\n",
       "50243     NaN\n",
       "50244    10.0\n",
       "50245     8.0\n",
       "50246     3.0\n",
       "Name: Toilets, Length: 50247, dtype: float64"
      ]
     },
     "execution_count": 11,
     "metadata": {},
     "output_type": "execute_result"
    }
   ],
   "source": [
    "df[\"Toilets\"]"
   ]
  },
  {
   "cell_type": "code",
   "execution_count": 12,
   "id": "09155c2b",
   "metadata": {},
   "outputs": [],
   "source": [
    "missing_percent = df.isnull().sum()/len(df)*100 #check proportion of missingness"
   ]
  },
  {
   "cell_type": "code",
   "execution_count": 13,
   "id": "d401681e",
   "metadata": {},
   "outputs": [
    {
     "data": {
      "text/plain": [
       "Location           0.000000\n",
       "Currency           0.000000\n",
       "Price              0.000000\n",
       "Contact            0.000000\n",
       "Bedrooms           1.834935\n",
       "Realtor            0.001990\n",
       "Bathrooms         15.025773\n",
       "Title              0.000000\n",
       "Description        0.000000\n",
       "Parking Spaces    49.851732\n",
       "Toilets           12.295261\n",
       "dtype: float64"
      ]
     },
     "execution_count": 13,
     "metadata": {},
     "output_type": "execute_result"
    }
   ],
   "source": [
    "missing_percent"
   ]
  },
  {
   "cell_type": "code",
   "execution_count": null,
   "id": "2c0fcc27",
   "metadata": {},
   "outputs": [],
   "source": [
    "##Insight:\n",
    "##Bedrooms has very few missing → can fill with median or mode.\n",
    "#Bathrooms and Toilets have moderate missing → median imputation works.\n",
    "#Parking Spaces is missing almost half → maybe fill with 0 if absence of parking is plausible, or leave as null and let LLM handle missing info.\n"
   ]
  },
  {
   "cell_type": "code",
   "execution_count": 15,
   "id": "7ee376cd",
   "metadata": {},
   "outputs": [
    {
     "name": "stderr",
     "output_type": "stream",
     "text": [
      "<>:1: SyntaxWarning: invalid escape sequence '\\$'\n",
      "<>:1: SyntaxWarning: invalid escape sequence '\\$'\n",
      "C:\\Users\\Admin\\AppData\\Local\\Temp\\ipykernel_10204\\2640634618.py:1: SyntaxWarning: invalid escape sequence '\\$'\n",
      "  usd_rows = df['Currency'].str.contains('\\$', regex=True)\n"
     ]
    },
    {
     "data": {
      "text/html": [
       "<div>\n",
       "<style scoped>\n",
       "    .dataframe tbody tr th:only-of-type {\n",
       "        vertical-align: middle;\n",
       "    }\n",
       "\n",
       "    .dataframe tbody tr th {\n",
       "        vertical-align: top;\n",
       "    }\n",
       "\n",
       "    .dataframe thead th {\n",
       "        text-align: right;\n",
       "    }\n",
       "</style>\n",
       "<table border=\"1\" class=\"dataframe\">\n",
       "  <thead>\n",
       "    <tr style=\"text-align: right;\">\n",
       "      <th></th>\n",
       "      <th>Location</th>\n",
       "      <th>Currency</th>\n",
       "      <th>Price</th>\n",
       "      <th>Contact</th>\n",
       "      <th>Bedrooms</th>\n",
       "      <th>Realtor</th>\n",
       "      <th>Bathrooms</th>\n",
       "      <th>Title</th>\n",
       "      <th>Description</th>\n",
       "      <th>Parking Spaces</th>\n",
       "      <th>Toilets</th>\n",
       "    </tr>\n",
       "  </thead>\n",
       "  <tbody>\n",
       "    <tr>\n",
       "      <th>1</th>\n",
       "      <td>Ikoyi, Lagos</td>\n",
       "      <td>$</td>\n",
       "      <td>2,800,000</td>\n",
       "      <td>7065266133</td>\n",
       "      <td>6.0</td>\n",
       "      <td>Bera Deals</td>\n",
       "      <td>6.0</td>\n",
       "      <td>Luxury 6 Bedrooms Penthouse Condo</td>\n",
       "      <td>Direct brief from the owner\\n- the detailed vi...</td>\n",
       "      <td>NaN</td>\n",
       "      <td>7.0</td>\n",
       "    </tr>\n",
       "    <tr>\n",
       "      <th>21</th>\n",
       "      <td>Osbourne Foreshore Estate 1, Old Ikoyi, Ikoyi,...</td>\n",
       "      <td>$</td>\n",
       "      <td>7,000,000</td>\n",
       "      <td>8069683185</td>\n",
       "      <td>6.0</td>\n",
       "      <td>Giselle Homes</td>\n",
       "      <td>6.0</td>\n",
       "      <td>Beautifully Built 6 Bedrooms Mansion</td>\n",
       "      <td>Fantastic opportunity awaits with this stunnin...</td>\n",
       "      <td>NaN</td>\n",
       "      <td>7.0</td>\n",
       "    </tr>\n",
       "    <tr>\n",
       "      <th>47</th>\n",
       "      <td>Ikoyi, Lagos</td>\n",
       "      <td>$</td>\n",
       "      <td>3,000,000</td>\n",
       "      <td>9068778700</td>\n",
       "      <td>5.0</td>\n",
       "      <td>Dita Homes</td>\n",
       "      <td>6.0</td>\n",
       "      <td>Newly Built 5 Bedrooms House</td>\n",
       "      <td>Available for sale in old ikoyi.\\ncontemporary...</td>\n",
       "      <td>4.0</td>\n",
       "      <td>5.0</td>\n",
       "    </tr>\n",
       "    <tr>\n",
       "      <th>49</th>\n",
       "      <td>Pinnock Beach Estate, Osapa, Lekki, Lagos</td>\n",
       "      <td>$</td>\n",
       "      <td>2,500,000</td>\n",
       "      <td>8025286152</td>\n",
       "      <td>5.0</td>\n",
       "      <td>Apple Properties</td>\n",
       "      <td>5.0</td>\n",
       "      <td>Luxury Waterfront Mansion</td>\n",
       "      <td>5 bedroom luxury fully detached duplex\\npinnoc...</td>\n",
       "      <td>NaN</td>\n",
       "      <td>5.0</td>\n",
       "    </tr>\n",
       "    <tr>\n",
       "      <th>50</th>\n",
       "      <td>Banana Island, Ikoyi, Lagos</td>\n",
       "      <td>$</td>\n",
       "      <td>15,000,000</td>\n",
       "      <td>8025286152</td>\n",
       "      <td>7.0</td>\n",
       "      <td>Apple Properties</td>\n",
       "      <td>7.0</td>\n",
       "      <td>The Best Penthouse</td>\n",
       "      <td>Lucrezia\\nfull house automation\\n2 bqs\\nzaha h...</td>\n",
       "      <td>NaN</td>\n",
       "      <td>7.0</td>\n",
       "    </tr>\n",
       "  </tbody>\n",
       "</table>\n",
       "</div>"
      ],
      "text/plain": [
       "                                             Location Currency       Price  \\\n",
       "1                                        Ikoyi, Lagos        $   2,800,000   \n",
       "21  Osbourne Foreshore Estate 1, Old Ikoyi, Ikoyi,...        $   7,000,000   \n",
       "47                                       Ikoyi, Lagos        $   3,000,000   \n",
       "49          Pinnock Beach Estate, Osapa, Lekki, Lagos        $   2,500,000   \n",
       "50                        Banana Island, Ikoyi, Lagos        $  15,000,000   \n",
       "\n",
       "       Contact  Bedrooms           Realtor  Bathrooms  \\\n",
       "1   7065266133       6.0        Bera Deals        6.0   \n",
       "21  8069683185       6.0     Giselle Homes        6.0   \n",
       "47  9068778700       5.0        Dita Homes        6.0   \n",
       "49  8025286152       5.0  Apple Properties        5.0   \n",
       "50  8025286152       7.0  Apple Properties        7.0   \n",
       "\n",
       "                                   Title  \\\n",
       "1      Luxury 6 Bedrooms Penthouse Condo   \n",
       "21  Beautifully Built 6 Bedrooms Mansion   \n",
       "47          Newly Built 5 Bedrooms House   \n",
       "49             Luxury Waterfront Mansion   \n",
       "50                    The Best Penthouse   \n",
       "\n",
       "                                          Description  Parking Spaces  Toilets  \n",
       "1   Direct brief from the owner\\n- the detailed vi...             NaN      7.0  \n",
       "21  Fantastic opportunity awaits with this stunnin...             NaN      7.0  \n",
       "47  Available for sale in old ikoyi.\\ncontemporary...             4.0      5.0  \n",
       "49  5 bedroom luxury fully detached duplex\\npinnoc...             NaN      5.0  \n",
       "50  Lucrezia\\nfull house automation\\n2 bqs\\nzaha h...             NaN      7.0  "
      ]
     },
     "execution_count": 15,
     "metadata": {},
     "output_type": "execute_result"
    }
   ],
   "source": [
    "usd_rows = df['Currency'].str.contains('\\$', regex=True)\n",
    "df[usd_rows].head()"
   ]
  },
  {
   "cell_type": "code",
   "execution_count": 18,
   "id": "a1e597d2",
   "metadata": {},
   "outputs": [
    {
     "name": "stderr",
     "output_type": "stream",
     "text": [
      "<>:2: SyntaxWarning: invalid escape sequence '\\$'\n",
      "<>:2: SyntaxWarning: invalid escape sequence '\\$'\n",
      "C:\\Users\\Admin\\AppData\\Local\\Temp\\ipykernel_10204\\1895377561.py:2: SyntaxWarning: invalid escape sequence '\\$'\n",
      "  df['Price_clean'] = df['Price'].replace('[\\$,]', '', regex=True).astype(float)\n"
     ]
    }
   ],
   "source": [
    "# Remove commas and $ sign\n",
    "df['Price_clean'] = df['Price'].replace('[\\$,]', '', regex=True).astype(float)\n"
   ]
  },
  {
   "cell_type": "code",
   "execution_count": 20,
   "id": "641e48e0",
   "metadata": {},
   "outputs": [],
   "source": [
    "USD_TO_NGN = 1532.34\n",
    "\n",
    "# Create a new column in Naira\n",
    "df.loc[usd_rows, 'Price_clean'] = df.loc[usd_rows, 'Price_clean'] * USD_TO_NGN"
   ]
  },
  {
   "cell_type": "code",
   "execution_count": 21,
   "id": "6fa2adb6",
   "metadata": {},
   "outputs": [],
   "source": [
    "naira_rows = ~usd_rows\n",
    "df.loc[naira_rows, 'Price_clean'] = df.loc[naira_rows, 'Price'].replace(',', '', regex=True).astype(float)"
   ]
  },
  {
   "cell_type": "code",
   "execution_count": 22,
   "id": "ddd5ced6",
   "metadata": {},
   "outputs": [],
   "source": [
    "df['Price'] = df['Price_clean']\n",
    "df.drop(columns=['Price_clean'], inplace=True)\n"
   ]
  },
  {
   "cell_type": "code",
   "execution_count": null,
   "id": "aaaaeaf4",
   "metadata": {},
   "outputs": [],
   "source": [
    "df.head(10)"
   ]
  },
  {
   "cell_type": "code",
   "execution_count": 24,
   "id": "732a61e1",
   "metadata": {},
   "outputs": [],
   "source": [
    "df['Currency'] = \"₦\""
   ]
  },
  {
   "cell_type": "code",
   "execution_count": null,
   "id": "b89255d0",
   "metadata": {},
   "outputs": [],
   "source": [
    "df.head(10)"
   ]
  },
  {
   "cell_type": "code",
   "execution_count": 26,
   "id": "d68fa263",
   "metadata": {},
   "outputs": [],
   "source": [
    "# ---------- Step 3: Handle missing numeric values ----------\n",
    "numeric_cols = ['Bedrooms', 'Bathrooms', 'Parking Spaces', 'Toilets']\n",
    "\n",
    "# Bedrooms, Bathrooms, Toilets → fill with median\n",
    "df['Bedrooms'] = df['Bedrooms'].fillna(df['Bedrooms'].median())\n",
    "df['Bathrooms'] = df['Bathrooms'].fillna(df['Bathrooms'].median())\n",
    "df['Toilets'] = df['Toilets'].fillna(df['Toilets'].median())\n",
    "\n",
    "# Parking Spaces → fill missing with 0\n",
    "df['Parking Spaces'] = df['Parking Spaces'].fillna(0)"
   ]
  },
  {
   "cell_type": "code",
   "execution_count": 27,
   "id": "30ae93e4",
   "metadata": {},
   "outputs": [
    {
     "data": {
      "text/plain": [
       "Location          0\n",
       "Currency          0\n",
       "Price             0\n",
       "Contact           0\n",
       "Bedrooms          0\n",
       "Realtor           1\n",
       "Bathrooms         0\n",
       "Title             0\n",
       "Description       0\n",
       "Parking Spaces    0\n",
       "Toilets           0\n",
       "dtype: int64"
      ]
     },
     "execution_count": 27,
     "metadata": {},
     "output_type": "execute_result"
    }
   ],
   "source": [
    "df.isnull().sum()"
   ]
  },
  {
   "cell_type": "code",
   "execution_count": null,
   "id": "3cf2056d",
   "metadata": {},
   "outputs": [],
   "source": [
    "# Simple scoring: give weight to Bedrooms, Bathrooms, Toilets, Parking Spaces\n",
    "df['Score'] = (\n",
    "    df['Bedrooms'] * 2 +\n",
    "    df['Bathrooms'] * 1 +\n",
    "    df['Toilets'] * 0.5 +\n",
    "    df['Parking Spaces'] * 0.5\n",
    ")"
   ]
  }
 ],
 "metadata": {
  "kernelspec": {
   "display_name": ".venv",
   "language": "python",
   "name": "python3"
  },
  "language_info": {
   "codemirror_mode": {
    "name": "ipython",
    "version": 3
   },
   "file_extension": ".py",
   "mimetype": "text/x-python",
   "name": "python",
   "nbconvert_exporter": "python",
   "pygments_lexer": "ipython3",
   "version": "3.13.5"
  }
 },
 "nbformat": 4,
 "nbformat_minor": 5
}
