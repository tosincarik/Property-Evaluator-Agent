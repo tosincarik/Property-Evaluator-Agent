{
 "cells": [
  {
   "cell_type": "code",
   "execution_count": null,
   "id": "fe63a8c7",
   "metadata": {},
   "outputs": [],
   "source": [
    "!pip install openai python-dotenv pypdf gradio"
   ]
  },
  {
   "cell_type": "code",
   "execution_count": 21,
   "id": "1d6f0998",
   "metadata": {},
   "outputs": [],
   "source": [
    "from dotenv import load_dotenv\n",
    "from IPython.display import Markdown\n",
    "from openai import OpenAI\n",
    "from pypdf import PdfReader\n",
    "import os\n",
    "import pandas as pd\n",
    "import gradio as gr"
   ]
  },
  {
   "cell_type": "code",
   "execution_count": 23,
   "id": "f566f04b",
   "metadata": {},
   "outputs": [
    {
     "data": {
      "text/plain": [
       "True"
      ]
     },
     "execution_count": 23,
     "metadata": {},
     "output_type": "execute_result"
    }
   ],
   "source": [
    "load_dotenv(override=True)"
   ]
  },
  {
   "cell_type": "code",
   "execution_count": 24,
   "id": "c04289b4",
   "metadata": {},
   "outputs": [],
   "source": [
    "openaiapi = os.getenv(\"OPENAI_API_KEY\")\n",
    "groqapi = os.getenv(\"groq_api_key\")"
   ]
  },
  {
   "cell_type": "code",
   "execution_count": 25,
   "id": "874b7e36",
   "metadata": {},
   "outputs": [
    {
     "name": "stdout",
     "output_type": "stream",
     "text": [
      "Openai key is found and starts with: sk-proj-\n",
      "groqapi key is found and starts with: gsk_Vopn\n"
     ]
    }
   ],
   "source": [
    "if openaiapi:\n",
    "    print(f\"Openai key is found and starts with: {openaiapi[:8]}\")\n",
    "else:\n",
    "    print(\"Open ai api not found\")\n",
    "\n",
    "if groqapi:\n",
    "    print(f\"groqapi key is found and starts with: {groqapi[:8]}\")\n",
    "else:\n",
    "    print(\"groqapi ai api not found\")"
   ]
  },
  {
   "cell_type": "code",
   "execution_count": 26,
   "id": "569b4c28",
   "metadata": {},
   "outputs": [],
   "source": [
    "# System prompt tailored for property recommendations\n",
    "system_prompt_property = \"\"\"\n",
    "You are a real estate advisor AI. \n",
    "You are given a dataset of properties including location, price, bedrooms, bathrooms, parking spaces, toilets, title, and description. \n",
    "When a user provides their preferences (budget, location, property type, number of bedrooms), you must return the top 3 properties that best match their needs. \n",
    "Provide a short reasoning for each recommendation. \n",
    "Always consider price affordability and feature match.\n",
    "\"\"\"\n"
   ]
  },
  {
   "cell_type": "code",
   "execution_count": 27,
   "id": "788692a4",
   "metadata": {},
   "outputs": [
    {
     "name": "stdout",
     "output_type": "stream",
     "text": [
      "                                            Location Currency         Price  \\\n",
      "0  Urban Prime Three Phase 2 Estate, Ogombo, Ajah...        ₦  1.500000e+08   \n",
      "1                                       Ikoyi, Lagos        ₦  4.290552e+09   \n",
      "2          Pinnock Beach Estate, Osapa, Lekki, Lagos        ₦  1.400000e+09   \n",
      "3        Oseni Mayegun Street, Ologolo, Lekki, Lagos        ₦  2.000000e+08   \n",
      "4                   Ikate Lekki, Ikate, Lekki, Lagos        ₦  2.100000e+08   \n",
      "\n",
      "      Contact  Bedrooms                                      Realtor  \\\n",
      "0  8067495852         5                            Lake Pad Ventures   \n",
      "1  7065266133         6                                   Bera Deals   \n",
      "2  7065266133         6                                   Bera Deals   \n",
      "3  8079792003         4                            Paul Osaji And Co   \n",
      "4  8084677480         5  Jasmine Real Properties And Estate Services   \n",
      "\n",
      "   Bathrooms                                           Title  \\\n",
      "0          6          Luxury 5 Bedrooms Semi-detached Duplex   \n",
      "1          6               Luxury 6 Bedrooms Penthouse Condo   \n",
      "2          4             Newly Built Massive House / Mansion   \n",
      "3          4   4 Bedroom Detached House With 2 Mini Flats Bq   \n",
      "4          5  Super Luxury 5bed Semi Detach Duplex With A Bq   \n",
      "\n",
      "                                         Description  Parking Spaces  Toilets  \\\n",
      "0  Hurry now!\\nfor sale\\nluxury 5 bedroom on two ...               5        7   \n",
      "1  Direct brief from the owner\\n- the detailed vi...               0        7   \n",
      "2  Direct brief / direct instruction from the own...               0        7   \n",
      "3  For sale in ologolo\\n4 bedroom fully detached ...               0        4   \n",
      "4  5 bed ikate n215m\\nluxury 5 bedroom semidetach...               0        6   \n",
      "\n",
      "   Score  \n",
      "0   22.0  \n",
      "1   21.5  \n",
      "2   19.5  \n",
      "3   14.0  \n",
      "4   18.0  \n"
     ]
    }
   ],
   "source": [
    "import pandas as pd\n",
    "\n",
    "sheet_url = \"https://docs.google.com/spreadsheets/d/15h3j-Q-Xepsok2ru5Au_havdWMdJ983qBGBXzceCuig/export?format=csv&gid=474984245\"\n",
    "df_cleaned = pd.read_csv(sheet_url)\n",
    "\n",
    "print(df_cleaned.head())\n"
   ]
  },
  {
   "cell_type": "code",
   "execution_count": null,
   "id": "71618d99",
   "metadata": {},
   "outputs": [
    {
     "name": "stderr",
     "output_type": "stream",
     "text": [
      "C:\\Users\\Admin\\AppData\\Local\\Temp\\ipykernel_6860\\4274408872.py:69: UserWarning: You have not specified a value for the `type` parameter. Defaulting to the 'tuples' format for chatbot messages, but this is deprecated and will be removed in a future version of Gradio. Please set type='messages' instead, which uses openai-style dictionaries with 'role' and 'content' keys.\n",
      "  chatbot = gr.Chatbot()\n"
     ]
    },
    {
     "name": "stdout",
     "output_type": "stream",
     "text": [
      "* Running on local URL:  http://127.0.0.1:7860\n",
      "* To create a public link, set `share=True` in `launch()`.\n"
     ]
    },
    {
     "data": {
      "text/html": [
       "<div><iframe src=\"http://127.0.0.1:7860/\" width=\"100%\" height=\"500\" allow=\"autoplay; camera; microphone; clipboard-read; clipboard-write;\" frameborder=\"0\" allowfullscreen></iframe></div>"
      ],
      "text/plain": [
       "<IPython.core.display.HTML object>"
      ]
     },
     "metadata": {},
     "output_type": "display_data"
    },
    {
     "data": {
      "text/plain": []
     },
     "execution_count": 28,
     "metadata": {},
     "output_type": "execute_result"
    }
   ],
   "source": [
    "#  existing functions\n",
    "client = OpenAI()\n",
    "\n",
    "def get_recommendation_input(budget=None, location=None, property_type=None, bedrooms=None):\n",
    "    \"\"\"\n",
    "    Prepare user query and filtered dataset subset for LLM\n",
    "    \"\"\"\n",
    "    df_filtered = df_cleaned  # assume df_cleaned is globally available\n",
    "\n",
    "    # Filters\n",
    "    if budget is not None:\n",
    "        df_filtered = df_filtered[df_filtered['Price'] <= budget]\n",
    "    if location:\n",
    "        df_filtered = df_filtered[df_filtered['Location'].str.contains(location, case=False, na=False)]\n",
    "    if property_type:\n",
    "        df_filtered = df_filtered[df_filtered['Title'].str.contains(property_type, case=False, na=False)]\n",
    "    if bedrooms is not None:\n",
    "        df_filtered = df_filtered[df_filtered['Bedrooms'] == bedrooms]\n",
    "\n",
    "    # Select top 5\n",
    "    df_top = df_filtered.sort_values(by='Score', ascending=False).head(5)\n",
    "\n",
    "    # Build user prompt\n",
    "    prompt = f\"Recommend top properties based on these preferences:\\nBudget: {budget}\\n\"\n",
    "    prompt += f\"Location: {location}\\nProperty Type: {property_type}\\nBedrooms: {bedrooms}\\n\\n\"\n",
    "    prompt += \"Available properties:\\n\"\n",
    "    for idx, row in df_top.iterrows():\n",
    "        prompt += f\"- {row['Title']} | Price: ₦{row['Price']:,.0f} | Location: {row['Location']} | Bedrooms: {row['Bedrooms']} | Bathrooms: {row['Bathrooms']} | Parking: {row['Parking Spaces']} | Toilets: {row['Toilets']} | Score: {row['Score']}\\n\"\n",
    "    return prompt\n",
    "\n",
    "\n",
    "def chat_property(user_message, history):\n",
    "    \"\"\"\n",
    "    Chat wrapper that keeps history and calls GPT\n",
    "    \"\"\"\n",
    "    # Convert Gradio history format [(user, bot), ...] to OpenAI messages\n",
    "    messages = [{\"role\": \"system\", \"content\": system_prompt_property}]\n",
    "    for user, bot in history:\n",
    "        messages.append({\"role\": \"user\", \"content\": user})\n",
    "        messages.append({\"role\": \"assistant\", \"content\": bot})\n",
    "    messages.append({\"role\": \"user\", \"content\": user_message})\n",
    "\n",
    "    response = client.chat.completions.create(\n",
    "        model=\"gpt-4o-mini\",\n",
    "        messages=messages\n",
    "    )\n",
    "    reply = response.choices[0].message.content\n",
    "    return reply\n",
    "\n",
    "\n",
    "# Function to link filters + chat\n",
    "def recommend_with_filters(budget, location, property_type, bedrooms, history=[]):\n",
    "    user_prompt = get_recommendation_input(budget, location, property_type, bedrooms)\n",
    "    reply = chat_property(user_prompt, history)\n",
    "    history.append((user_prompt, reply))\n",
    "    return history, history\n",
    "\n",
    "\n",
    "# Build Gradio interface\n",
    "with gr.Blocks() as demo:\n",
    "    gr.Markdown(\"## 🏡 Property Finder Chatbot\")\n",
    "\n",
    "    with gr.Row():\n",
    "        budget = gr.Number(label=\"Budget (₦)\", value=200000000)\n",
    "        location = gr.Textbox(label=\"Location\", placeholder=\"e.g., Lagos\")\n",
    "        property_type = gr.Textbox(label=\"Property Type\", placeholder=\"e.g., Apartment\")\n",
    "        bedrooms = gr.Number(label=\"Bedrooms\", value=3)\n",
    "\n",
    "    chatbot = gr.Chatbot()\n",
    "    state = gr.State([])\n",
    "\n",
    "    send_button = gr.Button(\"Find Properties\")\n",
    "\n",
    "    send_button.click(\n",
    "        recommend_with_filters,\n",
    "        inputs=[budget, location, property_type, bedrooms, state],\n",
    "        outputs=[chatbot, state]\n",
    "    )\n",
    "\n",
    "demo.launch()\n"
   ]
  },
  {
   "cell_type": "code",
   "execution_count": null,
   "id": "154ad77d",
   "metadata": {},
   "outputs": [],
   "source": []
  }
 ],
 "metadata": {
  "kernelspec": {
   "display_name": "Python 3",
   "language": "python",
   "name": "python3"
  },
  "language_info": {
   "codemirror_mode": {
    "name": "ipython",
    "version": 3
   },
   "file_extension": ".py",
   "mimetype": "text/x-python",
   "name": "python",
   "nbconvert_exporter": "python",
   "pygments_lexer": "ipython3",
   "version": "3.11.0"
  }
 },
 "nbformat": 4,
 "nbformat_minor": 5
}
