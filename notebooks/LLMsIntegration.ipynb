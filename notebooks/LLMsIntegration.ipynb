{
 "cells": [
  {
   "cell_type": "code",
   "execution_count": null,
   "id": "fe63a8c7",
   "metadata": {},
   "outputs": [],
   "source": [
    "!pip install openai python-dotenv pypdf gradio"
   ]
  },
  {
   "cell_type": "code",
   "execution_count": 21,
   "id": "1d6f0998",
   "metadata": {},
   "outputs": [],
   "source": [
    "from dotenv import load_dotenv\n",
    "from IPython.display import Markdown\n",
    "from openai import OpenAI\n",
    "from pypdf import PdfReader\n",
    "import os\n",
    "import pandas as pd\n",
    "import gradio as gr"
   ]
  },
  {
   "cell_type": "code",
   "execution_count": 23,
   "id": "f566f04b",
   "metadata": {},
   "outputs": [
    {
     "data": {
      "text/plain": [
       "True"
      ]
     },
     "execution_count": 23,
     "metadata": {},
     "output_type": "execute_result"
    }
   ],
   "source": [
    "load_dotenv(override=True)"
   ]
  },
  {
   "cell_type": "code",
   "execution_count": null,
   "id": "cb4474ab",
   "metadata": {},
   "outputs": [],
   "source": [
    "# Load environment variables\n",
    "load_dotenv(override=True)\n",
    "\n",
    "SUPABASE_URL = os.getenv(\"SUPABASE_URL\")\n",
    "SUPABASE_KEY = os.getenv(\"SUPABASE_KEY\")\n",
    "OPENAI_API_KEY = os.getenv(\"OPENAI_API_KEY\")\n",
    "\n",
    "# Validate keys\n",
    "if not SUPABASE_URL or not SUPABASE_KEY:\n",
    "    raise ValueError(\"Supabase URL or Key not found in environment variables\")\n",
    "if not OPENAI_API_KEY:\n",
    "    raise ValueError(\"OpenAI API key not found in environment variables\")\n",
    "\n",
    "# Initialize clients\n",
    "supabase: Client = create_client(SUPABASE_URL, SUPABASE_KEY)\n",
    "client = OpenAI(api_key=OPENAI_API_KEY)"
   ]
  },
  {
   "cell_type": "code",
   "execution_count": 24,
   "id": "c04289b4",
   "metadata": {},
   "outputs": [],
   "source": [
    "openaiapi = os.getenv(\"OPENAI_API_KEY\")\n",
    "groqapi = os.getenv(\"groq_api_key\")"
   ]
  },
  {
   "cell_type": "code",
   "execution_count": 25,
   "id": "874b7e36",
   "metadata": {},
   "outputs": [
    {
     "name": "stdout",
     "output_type": "stream",
     "text": [
      "Openai key is found and starts with: sk-proj-\n",
      "groqapi key is found and starts with: gsk_Vopn\n"
     ]
    }
   ],
   "source": [
    "if openaiapi:\n",
    "    print(f\"Openai key is found and starts with: {openaiapi[:8]}\")\n",
    "else:\n",
    "    print(\"Open ai api not found\")\n",
    "\n",
    "if groqapi:\n",
    "    print(f\"groqapi key is found and starts with: {groqapi[:8]}\")\n",
    "else:\n",
    "    print(\"groqapi ai api not found\")"
   ]
  },
  {
   "cell_type": "code",
   "execution_count": null,
   "id": "569b4c28",
   "metadata": {},
   "outputs": [],
   "source": [
    "# System prompt for property recommendations\n",
    "system_prompt_property = \"\"\"\n",
    "You are a real estate advisor AI. \n",
    "You are given a dataset of properties including location, price, bedrooms, bathrooms, parking spaces, toilets, title, and description. \n",
    "When a user provides their preferences (budget, location, property type, number of bedrooms), you must return the top 3 properties that best match their needs. \n",
    "Provide a short reasoning for each recommendation. \n",
    "Always consider price affordability and feature match.\n",
    "\"\"\""
   ]
  },
  {
   "cell_type": "code",
   "execution_count": null,
   "id": "788692a4",
   "metadata": {},
   "outputs": [],
   "source": [
    "# Load property dataset\n",
    "sheet_url = \"https://docs.google.com/spreadsheets/d/15h3j-Q-Xepsok2ru5Au_havdWMdJ983qBGBXzceCuig/export?format=csv&gid=474984245\"\n",
    "df_cleaned = pd.read_csv(sheet_url)\n"
   ]
  },
  {
   "cell_type": "code",
   "execution_count": null,
   "id": "71618d99",
   "metadata": {},
   "outputs": [
    {
     "name": "stderr",
     "output_type": "stream",
     "text": [
      "C:\\Users\\Admin\\AppData\\Local\\Temp\\ipykernel_6860\\4274408872.py:69: UserWarning: You have not specified a value for the `type` parameter. Defaulting to the 'tuples' format for chatbot messages, but this is deprecated and will be removed in a future version of Gradio. Please set type='messages' instead, which uses openai-style dictionaries with 'role' and 'content' keys.\n",
      "  chatbot = gr.Chatbot()\n"
     ]
    },
    {
     "name": "stdout",
     "output_type": "stream",
     "text": [
      "* Running on local URL:  http://127.0.0.1:7860\n",
      "* To create a public link, set `share=True` in `launch()`.\n"
     ]
    },
    {
     "data": {
      "text/html": [
       "<div><iframe src=\"http://127.0.0.1:7860/\" width=\"100%\" height=\"500\" allow=\"autoplay; camera; microphone; clipboard-read; clipboard-write;\" frameborder=\"0\" allowfullscreen></iframe></div>"
      ],
      "text/plain": [
       "<IPython.core.display.HTML object>"
      ]
     },
     "metadata": {},
     "output_type": "display_data"
    },
    {
     "data": {
      "text/plain": []
     },
     "execution_count": 28,
     "metadata": {},
     "output_type": "execute_result"
    }
   ],
   "source": [
    "# Logging functions\n",
    "def log_interaction(session_id, user_message, bot_reply):\n",
    "    try:\n",
    "        supabase.table(\"interactions\").insert({\n",
    "            \"session_id\": session_id,\n",
    "            \"user_message\": user_message,\n",
    "            \"bot_reply\": bot_reply\n",
    "        }).execute()\n",
    "    except Exception as e:\n",
    "        print(f\"[Log Interaction Error]: {e}\")\n",
    "\n",
    "def log_filters(session_id, budget, location, property_type, bedrooms):\n",
    "    try:\n",
    "        supabase.table(\"filters\").insert({\n",
    "            \"session_id\": session_id,\n",
    "            \"budget\": budget,\n",
    "            \"location\": location,\n",
    "            \"property_type\": property_type,\n",
    "            \"bedrooms\": bedrooms\n",
    "        }).execute()\n",
    "    except Exception as e:\n",
    "        print(f\"[Log Filters Error]: {e}\")\n",
    "\n",
    "def log_recommendations(session_id, df_top, limit=3):\n",
    "    try:\n",
    "        recs = df_top.sort_values(by=\"Score\", ascending=False).head(limit)\n",
    "        payload = []\n",
    "        for _, r in recs.iterrows():\n",
    "            payload.append({\n",
    "                \"session_id\": session_id,\n",
    "                \"property_title\": str(r.get(\"Title\", \"\")),\n",
    "                \"price\": float(r.get(\"Price\", 0) or 0),\n",
    "                \"location\": str(r.get(\"Location\", \"\")),\n",
    "                \"score\": float(r.get(\"Score\", 0) or 0),\n",
    "            })\n",
    "        if payload:\n",
    "            supabase.table(\"recommendations\").insert(payload).execute()\n",
    "    except Exception as e:\n",
    "        print(f\"[Log Recommendations Error]: {e}\")\n",
    "\n",
    "# Core functions\n",
    "def get_recommendation_input(budget=None, location=None, property_type=None, bedrooms=None):\n",
    "    \"\"\"Filter dataset and prepare prompt for LLM\"\"\"\n",
    "    df_filtered = df_cleaned.copy()\n",
    "\n",
    "    if budget is not None:\n",
    "        df_filtered = df_filtered[df_filtered['Price'] <= budget]\n",
    "    if location:\n",
    "        df_filtered = df_filtered[df_filtered['Location'].str.contains(location, case=False, na=False)]\n",
    "    if property_type:\n",
    "        df_filtered = df_filtered[df_filtered['Title'].str.contains(property_type, case=False, na=False)]\n",
    "    if bedrooms is not None:\n",
    "        df_filtered = df_filtered[df_filtered['Bedrooms'] == bedrooms]\n",
    "\n",
    "    df_top = df_filtered.sort_values(by='Score', ascending=False).head(5)\n",
    "\n",
    "    prompt = f\"Recommend top properties based on these preferences:\\nBudget: {budget}\\n\"\n",
    "    prompt += f\"Location: {location}\\nProperty Type: {property_type}\\nBedrooms: {bedrooms}\\n\\n\"\n",
    "    prompt += \"Available properties:\\n\"\n",
    "    for idx, row in df_top.iterrows():\n",
    "        prompt += f\"- {row['Title']} | Price: ₦{row['Price']:,.0f} | Location: {row['Location']} | Bedrooms: {row['Bedrooms']} | Bathrooms: {row['Bathrooms']} | Parking: {row['Parking Spaces']} | Toilets: {row['Toilets']} | Score: {row['Score']}\\n\"\n",
    "\n",
    "    return prompt, df_top\n",
    "\n",
    "def chat_property(user_message, history):\n",
    "    \"\"\"Send conversation to OpenAI API with chat history\"\"\"\n",
    "    messages = [{\"role\": \"system\", \"content\": system_prompt_property}]\n",
    "    for user, bot in history:\n",
    "        messages.append({\"role\": \"user\", \"content\": user})\n",
    "        messages.append({\"role\": \"assistant\", \"content\": bot})\n",
    "    messages.append({\"role\": \"user\", \"content\": user_message})\n",
    "\n",
    "    try:\n",
    "        response = client.chat.completions.create(\n",
    "            model=\"gpt-4o-mini\",\n",
    "            messages=messages\n",
    "        )\n",
    "        return response.choices[0].message.content\n",
    "    except Exception as e:\n",
    "        print(f\"[Chat API Error]: {e}\")\n",
    "        return \"Sorry, I couldn't process your request at the moment.\"\n",
    "\n",
    "def recommend_with_filters(budget, location, property_type, bedrooms, history=None, session_id=None):\n",
    "    \"\"\"Handles filtering, chat, and logging\"\"\"\n",
    "    if history is None:\n",
    "        history = []\n",
    "\n",
    "    if session_id is None:\n",
    "        session_id = str(uuid.uuid4())\n",
    "\n",
    "    user_prompt, df_top = get_recommendation_input(budget, location, property_type, bedrooms)\n",
    "    reply = chat_property(user_prompt, history)\n",
    "    history.append((user_prompt, reply))\n",
    "\n",
    "    # Log to Supabase\n",
    "    log_filters(session_id, budget, location, property_type, bedrooms)\n",
    "    log_recommendations(session_id, df_top)\n",
    "    log_interaction(session_id, user_prompt, reply)\n",
    "\n",
    "    return history, history, session_id\n",
    "\n",
    "# Gradio Interface\n",
    "with gr.Blocks() as demo:\n",
    "    gr.Markdown(\"## 🏡 Property Finder Chatbot\")\n",
    "\n",
    "    with gr.Row():\n",
    "        budget = gr.Number(label=\"Budget (₦)\", value=200000000)\n",
    "        location = gr.Textbox(label=\"Location\", placeholder=\"e.g., Lagos\")\n",
    "        property_type = gr.Textbox(label=\"Property Type\", placeholder=\"e.g., Apartment\")\n",
    "        bedrooms = gr.Number(label=\"Bedrooms\", value=3)\n",
    "\n",
    "    chatbot = gr.Chatbot()\n",
    "    state = gr.State([])\n",
    "    session_state = gr.State(None)\n",
    "\n",
    "    send_button = gr.Button(\"Find Properties\")\n",
    "\n",
    "    send_button.click(\n",
    "        recommend_with_filters,\n",
    "        inputs=[budget, location, property_type, bedrooms, state, session_state],\n",
    "        outputs=[chatbot, state, session_state]\n",
    "    )\n",
    "\n",
    "demo.launch()"
   ]
  },
  {
   "cell_type": "code",
   "execution_count": null,
   "id": "154ad77d",
   "metadata": {},
   "outputs": [],
   "source": []
  }
 ],
 "metadata": {
  "kernelspec": {
   "display_name": "Python 3",
   "language": "python",
   "name": "python3"
  },
  "language_info": {
   "codemirror_mode": {
    "name": "ipython",
    "version": 3
   },
   "file_extension": ".py",
   "mimetype": "text/x-python",
   "name": "python",
   "nbconvert_exporter": "python",
   "pygments_lexer": "ipython3",
   "version": "3.11.0"
  }
 },
 "nbformat": 4,
 "nbformat_minor": 5
}
